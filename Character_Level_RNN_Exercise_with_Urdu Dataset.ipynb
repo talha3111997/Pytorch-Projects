{
  "nbformat": 4,
  "nbformat_minor": 0,
  "metadata": {
    "kernelspec": {
      "display_name": "Python [default]",
      "language": "python",
      "name": "python3"
    },
    "language_info": {
      "codemirror_mode": {
        "name": "ipython",
        "version": 3
      },
      "file_extension": ".py",
      "mimetype": "text/x-python",
      "name": "python",
      "nbconvert_exporter": "python",
      "pygments_lexer": "ipython3",
      "version": "3.6.4"
    },
    "colab": {
      "name": "Character_Level_RNN_Exercise.ipynb",
      "provenance": [],
      "collapsed_sections": [],
      "toc_visible": true
    },
    "accelerator": "GPU"
  },
  "cells": [
    {
      "cell_type": "markdown",
      "metadata": {
        "id": "XfuUYAmge0sq",
        "colab_type": "text"
      },
      "source": [
        "# Character-Level LSTM in PyTorch\n",
        "\n",
        "In this notebook, I'll construct a character-level LSTM with PyTorch. The network will train character by character on some text, then generate new text character by character. As an example, I will train on Anna Karenina. **This model will be able to generate new text based on the text from the book!**\n",
        "\n",
        "This network is based off of Andrej Karpathy's [post on RNNs](http://karpathy.github.io/2015/05/21/rnn-effectiveness/) and [implementation in Torch](https://github.com/karpathy/char-rnn). Below is the general architecture of the character-wise RNN.\n",
        "\n",
        "<img src=\"https://github.com/udacity/deep-learning-v2-pytorch/blob/master/recurrent-neural-networks/char-rnn/assets/charseq.jpeg?raw=1\" width=\"500\">"
      ]
    },
    {
      "cell_type": "markdown",
      "metadata": {
        "id": "DOc3VGW3e0sv",
        "colab_type": "text"
      },
      "source": [
        "First let's load in our required resources for data loading and model creation."
      ]
    },
    {
      "cell_type": "code",
      "metadata": {
        "id": "t-TSfWT2pa35",
        "colab_type": "code",
        "outputId": "10f14195-7758-478b-ee65-d005d8424497",
        "colab": {
          "base_uri": "https://localhost:8080/",
          "height": 151
        }
      },
      "source": [
        "for num in [1,2,3,4,5,6,7,8,9,10]:\n",
        "    if(num==7 or num==4):\n",
        "        continue\n",
        "    print(num)"
      ],
      "execution_count": 43,
      "outputs": [
        {
          "output_type": "stream",
          "text": [
            "1\n",
            "2\n",
            "3\n",
            "5\n",
            "6\n",
            "8\n",
            "9\n",
            "10\n"
          ],
          "name": "stdout"
        }
      ]
    },
    {
      "cell_type": "code",
      "metadata": {
        "id": "HWefrBj0e0sx",
        "colab_type": "code",
        "colab": {}
      },
      "source": [
        "import numpy as np\n",
        "import torch\n",
        "from torch import nn\n",
        "import torch.nn.functional as F"
      ],
      "execution_count": 0,
      "outputs": []
    },
    {
      "cell_type": "markdown",
      "metadata": {
        "id": "pzfcky9Pe0tC",
        "colab_type": "text"
      },
      "source": [
        "## Load in Data\n",
        "\n",
        "Then, we'll load the Anna Karenina text file and convert it into integers for our network to use. "
      ]
    },
    {
      "cell_type": "code",
      "metadata": {
        "id": "QT4B_TnUe0tG",
        "colab_type": "code",
        "colab": {}
      },
      "source": [
        "# open text file and read in data as `text`\n",
        "with open('urdu.txt', 'r') as f:\n",
        "    text = f.read()"
      ],
      "execution_count": 0,
      "outputs": []
    },
    {
      "cell_type": "markdown",
      "metadata": {
        "id": "qZOd-ckfe0tZ",
        "colab_type": "text"
      },
      "source": [
        "Let's check out the first 100 characters, make sure everything is peachy. According to the [American Book Review](http://americanbookreview.org/100bestlines.asp), this is the 6th best first line of a book ever."
      ]
    },
    {
      "cell_type": "code",
      "metadata": {
        "id": "YNQN361Ue0td",
        "colab_type": "code",
        "outputId": "c8ee601c-e881-47d3-d25d-67b304b80aec",
        "colab": {
          "base_uri": "https://localhost:8080/",
          "height": 34
        }
      },
      "source": [
        "text[:100]"
      ],
      "execution_count": 46,
      "outputs": [
        {
          "output_type": "execute_result",
          "data": {
            "text/plain": [
              "'آ\\nآؤ\\nآؤ_بھگت\\nآؤلی\\nآؤلیاں\\nآؤلے\\nآؤٹ\\nآؤں\\nآئ\\nآئبس\\nآئتا\\nآئر\\nآئر_لینڈ\\nآئرس\\nآئرستان\\nآئرستانی\\nآئرستانیوں\\nآئر'"
            ]
          },
          "metadata": {
            "tags": []
          },
          "execution_count": 46
        }
      ]
    },
    {
      "cell_type": "code",
      "metadata": {
        "id": "v1Wx0SGjA3V2",
        "colab_type": "code",
        "outputId": "29e457ae-8f20-4591-e01b-47b4f8b9b65b",
        "colab": {
          "base_uri": "https://localhost:8080/",
          "height": 34
        }
      },
      "source": [
        "len(text)"
      ],
      "execution_count": 47,
      "outputs": [
        {
          "output_type": "execute_result",
          "data": {
            "text/plain": [
              "1221414"
            ]
          },
          "metadata": {
            "tags": []
          },
          "execution_count": 47
        }
      ]
    },
    {
      "cell_type": "markdown",
      "metadata": {
        "id": "bMTaCRV7e0tp",
        "colab_type": "text"
      },
      "source": [
        "### Tokenization\n",
        "\n",
        "In the cells, below, I'm creating a couple **dictionaries** to convert the characters to and from integers. Encoding the characters as integers makes it easier to use as input in the network."
      ]
    },
    {
      "cell_type": "code",
      "metadata": {
        "id": "pUFwIPuQBZRV",
        "colab_type": "code",
        "outputId": "f0e3104c-2830-4461-b24e-97553b142d8e",
        "colab": {
          "base_uri": "https://localhost:8080/",
          "height": 34
        }
      },
      "source": [
        "mychars = tuple(set(text))\n",
        "int2char = dict(enumerate(mychars))\n",
        "char2int = {mych: myint for myint, mych in int2char.items()}\n",
        "encoded = np.array([char2int[ch] for ch in text])\n",
        "len(encoded)"
      ],
      "execution_count": 48,
      "outputs": [
        {
          "output_type": "execute_result",
          "data": {
            "text/plain": [
              "1221414"
            ]
          },
          "metadata": {
            "tags": []
          },
          "execution_count": 48
        }
      ]
    },
    {
      "cell_type": "code",
      "metadata": {
        "id": "1Jmg-Eaze0tr",
        "colab_type": "code",
        "colab": {}
      },
      "source": [
        "# encode the text and map each character to an integer and vice versa\n",
        "\n",
        "# we create two dictionaries:\n",
        "# 1. int2char, which maps integers to characters\n",
        "# 2. char2int, which maps characters to unique integers\n",
        "chars = tuple(set(text))\n",
        "int2char = dict(enumerate(chars))\n",
        "char2int = {ch: ii for ii, ch in int2char.items()}\n",
        "\n",
        "# encode the text\n",
        "encoded = np.array([char2int[ch] for ch in text])"
      ],
      "execution_count": 0,
      "outputs": []
    },
    {
      "cell_type": "markdown",
      "metadata": {
        "id": "KuZbdNtZe0t5",
        "colab_type": "text"
      },
      "source": [
        "And we can see those same characters from above, encoded as integers."
      ]
    },
    {
      "cell_type": "code",
      "metadata": {
        "id": "jzAUPBOze0t8",
        "colab_type": "code",
        "outputId": "a321ff7a-ddf3-4469-a81e-449b62441756",
        "colab": {
          "base_uri": "https://localhost:8080/",
          "height": 118
        }
      },
      "source": [
        "encoded[:100]"
      ],
      "execution_count": 50,
      "outputs": [
        {
          "output_type": "execute_result",
          "data": {
            "text/plain": [
              "array([24, 35, 24,  2, 35, 24,  2, 37, 26, 44, 22,  6, 35, 24,  2,  5, 36,\n",
              "       35, 24,  2,  5, 36, 25, 38, 35, 24,  2,  5, 31, 35, 24,  2, 29, 35,\n",
              "       24,  2, 38, 35, 24, 46, 35, 24, 46, 26, 10, 35, 24, 46,  6, 25, 35,\n",
              "       24, 46, 30, 35, 24, 46, 30, 37,  5, 36,  4, 23, 35, 24, 46, 30, 10,\n",
              "       35, 24, 46, 30, 10,  6, 25,  4, 35, 24, 46, 30, 10,  6, 25,  4, 36,\n",
              "       35, 24, 46, 30, 10,  6, 25,  4, 36, 45, 38, 35, 24, 46, 30])"
            ]
          },
          "metadata": {
            "tags": []
          },
          "execution_count": 50
        }
      ]
    },
    {
      "cell_type": "code",
      "metadata": {
        "id": "-wBXhXQ2EdUW",
        "colab_type": "code",
        "outputId": "d0e85e4c-526e-4091-c564-75ab27ab5bdb",
        "colab": {
          "base_uri": "https://localhost:8080/",
          "height": 151
        }
      },
      "source": [
        "wow = np.array([int2char[ii] for ii in encoded[:100]])\n",
        "wow"
      ],
      "execution_count": 51,
      "outputs": [
        {
          "output_type": "execute_result",
          "data": {
            "text/plain": [
              "array(['آ', '\\n', 'آ', 'ؤ', '\\n', 'آ', 'ؤ', '_', 'ب', 'ھ', 'گ', 'ت', '\\n',\n",
              "       'آ', 'ؤ', 'ل', 'ی', '\\n', 'آ', 'ؤ', 'ل', 'ی', 'ا', 'ں', '\\n', 'آ',\n",
              "       'ؤ', 'ل', 'ے', '\\n', 'آ', 'ؤ', 'ٹ', '\\n', 'آ', 'ؤ', 'ں', '\\n', 'آ',\n",
              "       'ئ', '\\n', 'آ', 'ئ', 'ب', 'س', '\\n', 'آ', 'ئ', 'ت', 'ا', '\\n', 'آ',\n",
              "       'ئ', 'ر', '\\n', 'آ', 'ئ', 'ر', '_', 'ل', 'ی', 'ن', 'ڈ', '\\n', 'آ',\n",
              "       'ئ', 'ر', 'س', '\\n', 'آ', 'ئ', 'ر', 'س', 'ت', 'ا', 'ن', '\\n', 'آ',\n",
              "       'ئ', 'ر', 'س', 'ت', 'ا', 'ن', 'ی', '\\n', 'آ', 'ئ', 'ر', 'س', 'ت',\n",
              "       'ا', 'ن', 'ی', 'و', 'ں', '\\n', 'آ', 'ئ', 'ر'], dtype='<U1')"
            ]
          },
          "metadata": {
            "tags": []
          },
          "execution_count": 51
        }
      ]
    },
    {
      "cell_type": "markdown",
      "metadata": {
        "id": "l9RKS6X3e0uH",
        "colab_type": "text"
      },
      "source": [
        "## Pre-processing the data\n",
        "\n",
        "As you can see in our char-RNN image above, our LSTM expects an input that is **one-hot encoded** meaning that each character is converted into an integer (via our created dictionary) and *then* converted into a column vector where only it's corresponding integer index will have the value of 1 and the rest of the vector will be filled with 0's. Since we're one-hot encoding the data, let's make a function to do that!\n"
      ]
    },
    {
      "cell_type": "code",
      "metadata": {
        "id": "NwpM4c6aFe1p",
        "colab_type": "code",
        "outputId": "42d724b1-2d9b-4dac-d801-018d34a97c9c",
        "colab": {
          "base_uri": "https://localhost:8080/",
          "height": 34
        }
      },
      "source": [
        "a = np.zeros((3), dtype=np.int8)\n",
        "a = a[:2]\n",
        "a"
      ],
      "execution_count": 52,
      "outputs": [
        {
          "output_type": "execute_result",
          "data": {
            "text/plain": [
              "array([0, 0], dtype=int8)"
            ]
          },
          "metadata": {
            "tags": []
          },
          "execution_count": 52
        }
      ]
    },
    {
      "cell_type": "code",
      "metadata": {
        "id": "ta-ShRkoe0uK",
        "colab_type": "code",
        "colab": {}
      },
      "source": [
        "def one_hot_encode(arr, n_labels):\n",
        "    \n",
        "    # Initialize the the encoded array\n",
        "    one_hot = np.zeros((arr.size, n_labels), dtype=np.float32)\n",
        "    #print(one_hot)\n",
        "    #print('woww' ,  arr.flatten())\n",
        "    # Fill the appropriate elements with ones\n",
        "    one_hot[np.arange(one_hot.shape[0]), arr.flatten()] = 1.\n",
        "    #print(one_hot.shape)\n",
        "    # Finally reshape it to get back to the original array\n",
        "    one_hot = one_hot.reshape((*arr.shape, n_labels))\n",
        "    #print(one_hot.shape)\n",
        "    return one_hot"
      ],
      "execution_count": 0,
      "outputs": []
    },
    {
      "cell_type": "code",
      "metadata": {
        "id": "60FbSvHqe0uW",
        "colab_type": "code",
        "outputId": "3f625688-d237-42dd-d5cd-a19edb8d0a35",
        "colab": {
          "base_uri": "https://localhost:8080/",
          "height": 67
        }
      },
      "source": [
        "# check that the function works as expected\n",
        "test_seq = np.array([[3, 5, 1]])\n",
        "one_hot = one_hot_encode(test_seq, 8)\n",
        "\n",
        "print(one_hot)"
      ],
      "execution_count": 54,
      "outputs": [
        {
          "output_type": "stream",
          "text": [
            "[[[0. 0. 0. 1. 0. 0. 0. 0.]\n",
            "  [0. 0. 0. 0. 0. 1. 0. 0.]\n",
            "  [0. 1. 0. 0. 0. 0. 0. 0.]]]\n"
          ],
          "name": "stdout"
        }
      ]
    },
    {
      "cell_type": "markdown",
      "metadata": {
        "id": "b0GhUi-ue0ug",
        "colab_type": "text"
      },
      "source": [
        "## Making training mini-batches\n",
        "\n",
        "\n",
        "To train on this data, we also want to create mini-batches for training. Remember that we want our batches to be multiple sequences of some desired number of sequence steps. Considering a simple example, our batches would look like this:\n",
        "\n",
        "<img src=\"https://github.com/udacity/deep-learning-v2-pytorch/blob/master/recurrent-neural-networks/char-rnn/assets/sequence_batching@1x.png?raw=1\" width=500px>\n",
        "\n",
        "\n",
        "<br>\n",
        "\n",
        "In this example, we'll take the encoded characters (passed in as the `arr` parameter) and split them into multiple sequences, given by `batch_size`. Each of our sequences will be `seq_length` long.\n",
        "\n",
        "### Creating Batches\n",
        "\n",
        "**1. The first thing we need to do is discard some of the text so we only have completely full mini-batches. **\n",
        "\n",
        "Each batch contains $N \\times M$ characters, where $N$ is the batch size (the number of sequences in a batch) and $M$ is the seq_length or number of time steps in a sequence. Then, to get the total number of batches, $K$, that we can make from the array `arr`, you divide the length of `arr` by the number of characters per batch. Once you know the number of batches, you can get the total number of characters to keep from `arr`, $N * M * K$.\n",
        "\n",
        "**2. After that, we need to split `arr` into $N$ batches. ** \n",
        "\n",
        "You can do this using `arr.reshape(size)` where `size` is a tuple containing the dimensions sizes of the reshaped array. We know we want $N$ sequences in a batch, so let's make that the size of the first dimension. For the second dimension, you can use `-1` as a placeholder in the size, it'll fill up the array with the appropriate data for you. After this, you should have an array that is $N \\times (M * K)$.\n",
        "\n",
        "**3. Now that we have this array, we can iterate through it to get our mini-batches. **\n",
        "\n",
        "The idea is each batch is a $N \\times M$ window on the $N \\times (M * K)$ array. For each subsequent batch, the window moves over by `seq_length`. We also want to create both the input and target arrays. Remember that the targets are just the inputs shifted over by one character. The way I like to do this window is use `range` to take steps of size `n_steps` from $0$ to `arr.shape[1]`, the total number of tokens in each sequence. That way, the integers you get from `range` always point to the start of a batch, and each window is `seq_length` wide.\n",
        "\n",
        "> **TODO:** Write the code for creating batches in the function below. The exercises in this notebook _will not be easy_. I've provided a notebook with solutions alongside this notebook. If you get stuck, checkout the solutions. The most important thing is that you don't copy and paste the code into here, **type out the solution code yourself.**"
      ]
    },
    {
      "cell_type": "code",
      "metadata": {
        "id": "zhAmQGLTe0ui",
        "colab_type": "code",
        "colab": {}
      },
      "source": [
        "def get_batches(arr, batch_size, seq_length):\n",
        "    '''Create a generator that returns batches of size\n",
        "       batch_size x seq_length from arr.\n",
        "       \n",
        "       Arguments\n",
        "       ---------\n",
        "       arr: Array you want to make batches from\n",
        "       batch_size: Batch size, the number of sequences per batch\n",
        "       seq_length: Number of encoded chars in a sequence\n",
        "    '''\n",
        "    \n",
        "    batch_size_total = batch_size * seq_length\n",
        "    # total number of batches we can make\n",
        "    n_batches = len(arr)//batch_size_total\n",
        "    \n",
        "    # Keep only enough characters to make full batches\n",
        "    arr = arr[:n_batches * batch_size_total]\n",
        "    # Reshape into batch_size rows\n",
        "    arr = arr.reshape((batch_size, -1))\n",
        "    \n",
        "    # iterate through the array, one sequence at a time\n",
        "    for n in range(0, arr.shape[1], seq_length):\n",
        "        # The features\n",
        "        x = arr[:, n:n+seq_length]\n",
        "        # The targets, shifted by one\n",
        "        y = np.zeros_like(x)\n",
        "        try:\n",
        "            y[:, :-1], y[:, -1] = x[:, 1:], arr[:, n+seq_length]\n",
        "        except IndexError:\n",
        "            y[:, :-1], y[:, -1] = x[:, 1:], arr[:, 0]\n",
        "        yield x, y"
      ],
      "execution_count": 0,
      "outputs": []
    },
    {
      "cell_type": "markdown",
      "metadata": {
        "id": "siag-luEe0up",
        "colab_type": "text"
      },
      "source": [
        "### Test Your Implementation\n",
        "\n",
        "Now I'll make some data sets and we can check out what's going on as we batch data. Here, as an example, I'm going to use a batch size of 8 and 50 sequence steps."
      ]
    },
    {
      "cell_type": "code",
      "metadata": {
        "id": "3rJZFKIee0uq",
        "colab_type": "code",
        "colab": {}
      },
      "source": [
        "batches = get_batches(encoded, 8, 50)\n",
        "x, y = next(batches)"
      ],
      "execution_count": 0,
      "outputs": []
    },
    {
      "cell_type": "code",
      "metadata": {
        "id": "t05I7lf5e0uy",
        "colab_type": "code",
        "outputId": "bb7c3934-667d-4a6c-8732-efd9d112770c",
        "colab": {
          "base_uri": "https://localhost:8080/",
          "height": 336
        }
      },
      "source": [
        "# printing out the first 10 items in a sequence\n",
        "print('x\\n', x[:10, :10])\n",
        "print('\\ny\\n', y[:10, :10])"
      ],
      "execution_count": 57,
      "outputs": [
        {
          "output_type": "stream",
          "text": [
            "x\n",
            " [[24 35 24  2 35 24  2 37 26 44]\n",
            " [44 13 34 25 30 35 26 44 13 34]\n",
            " [ 5 26 36 26 36 38 35  7  5  6]\n",
            " [35 11 36 16 25  6 35 11 36 16]\n",
            " [35 19 36  4 36 38 35 19 36 45]\n",
            " [ 0 35 34 19 25 11  0 35 34 19]\n",
            " [35  4 42 45 20 45 35  4 42 45]\n",
            " [45 26 37 43  5 34 35 42 45 26]]\n",
            "\n",
            "y\n",
            " [[35 24  2 35 24  2 37 26 44 22]\n",
            " [13 34 25 30 35 26 44 13 34 25]\n",
            " [26 36 26 36 38 35  7  5  6 35]\n",
            " [11 36 16 25  6 35 11 36 16 45]\n",
            " [19 36  4 36 38 35 19 36 45 26]\n",
            " [35 34 19 25 11  0 35 34 19 25]\n",
            " [ 4 42 45 20 45 35  4 42 45 20]\n",
            " [26 37 43  5 34 35 42 45 26 37]]\n"
          ],
          "name": "stdout"
        }
      ]
    },
    {
      "cell_type": "markdown",
      "metadata": {
        "id": "b0GNHKbLe0u3",
        "colab_type": "text"
      },
      "source": [
        "If you implemented `get_batches` correctly, the above output should look something like \n",
        "```\n",
        "x\n",
        " [[25  8 60 11 45 27 28 73  1  2]\n",
        " [17  7 20 73 45  8 60 45 73 60]\n",
        " [27 20 80 73  7 28 73 60 73 65]\n",
        " [17 73 45  8 27 73 66  8 46 27]\n",
        " [73 17 60 12 73  8 27 28 73 45]\n",
        " [66 64 17 17 46  7 20 73 60 20]\n",
        " [73 76 20 20 60 73  8 60 80 73]\n",
        " [47 35 43  7 20 17 24 50 37 73]]\n",
        "\n",
        "y\n",
        " [[ 8 60 11 45 27 28 73  1  2  2]\n",
        " [ 7 20 73 45  8 60 45 73 60 45]\n",
        " [20 80 73  7 28 73 60 73 65  7]\n",
        " [73 45  8 27 73 66  8 46 27 65]\n",
        " [17 60 12 73  8 27 28 73 45 27]\n",
        " [64 17 17 46  7 20 73 60 20 80]\n",
        " [76 20 20 60 73  8 60 80 73 17]\n",
        " [35 43  7 20 17 24 50 37 73 36]]\n",
        " ```\n",
        " although the exact numbers may be different. Check to make sure the data is shifted over one step for `y`."
      ]
    },
    {
      "cell_type": "markdown",
      "metadata": {
        "id": "_b-TO8Fbe0u4",
        "colab_type": "text"
      },
      "source": [
        "---\n",
        "## Defining the network with PyTorch\n",
        "\n",
        "Below is where you'll define the network.\n",
        "\n",
        "<img src=\"https://github.com/udacity/deep-learning-v2-pytorch/blob/master/recurrent-neural-networks/char-rnn/assets/charRNN.png?raw=1\" width=500px>\n",
        "\n",
        "Next, you'll use PyTorch to define the architecture of the network. We start by defining the layers and operations we want. Then, define a method for the forward pass. You've also been given a method for predicting characters."
      ]
    },
    {
      "cell_type": "markdown",
      "metadata": {
        "id": "3gvAPLyEe0u5",
        "colab_type": "text"
      },
      "source": [
        "### Model Structure\n",
        "\n",
        "In `__init__` the suggested structure is as follows:\n",
        "* Create and store the necessary dictionaries (this has been done for you)\n",
        "* Define an LSTM layer that takes as params: an input size (the number of characters), a hidden layer size `n_hidden`, a number of layers `n_layers`, a dropout probability `drop_prob`, and a batch_first boolean (True, since we are batching)\n",
        "* Define a dropout layer with `drop_prob`\n",
        "* Define a fully-connected layer with params: input size `n_hidden` and output size (the number of characters)\n",
        "* Finally, initialize the weights (again, this has been given)\n",
        "\n",
        "Note that some parameters have been named and given in the `__init__` function, and we use them and store them by doing something like `self.drop_prob = drop_prob`."
      ]
    },
    {
      "cell_type": "markdown",
      "metadata": {
        "id": "29kdq-XOe0u5",
        "colab_type": "text"
      },
      "source": [
        "---\n",
        "### LSTM Inputs/Outputs\n",
        "\n",
        "You can create a basic [LSTM layer](https://pytorch.org/docs/stable/nn.html#lstm) as follows\n",
        "\n",
        "```python\n",
        "self.lstm = nn.LSTM(input_size, n_hidden, n_layers, \n",
        "                            dropout=drop_prob, batch_first=True)\n",
        "```\n",
        "\n",
        "where `input_size` is the number of characters this cell expects to see as sequential input, and `n_hidden` is the number of units in the hidden layers in the cell. And we can add dropout by adding a dropout parameter with a specified probability; this will automatically add dropout to the inputs or outputs. Finally, in the `forward` function, we can stack up the LSTM cells into layers using `.view`. With this, you pass in a list of cells and it will send the output of one cell into the next cell.\n",
        "\n",
        "We also need to create an initial hidden state of all zeros. This is done like so\n",
        "\n",
        "```python\n",
        "self.init_hidden()\n",
        "```"
      ]
    },
    {
      "cell_type": "code",
      "metadata": {
        "id": "URmfmgWUe0u6",
        "colab_type": "code",
        "outputId": "c66e503b-732b-4d05-ecf7-8326bba9205a",
        "colab": {
          "base_uri": "https://localhost:8080/",
          "height": 34
        }
      },
      "source": [
        "# check if GPU is available\n",
        "train_on_gpu = torch.cuda.is_available()\n",
        "if(train_on_gpu):\n",
        "    print('Training on GPU!')\n",
        "else: \n",
        "    print('No GPU available, training on CPU; consider making n_epochs very small.')"
      ],
      "execution_count": 58,
      "outputs": [
        {
          "output_type": "stream",
          "text": [
            "Training on GPU!\n"
          ],
          "name": "stdout"
        }
      ]
    },
    {
      "cell_type": "code",
      "metadata": {
        "id": "HeSixv_re0u_",
        "colab_type": "code",
        "colab": {}
      },
      "source": [
        " class CharRNN(nn.Module):\n",
        "    \n",
        "    def __init__(self, tokens, n_hidden=256, n_layers=2,\n",
        "                               drop_prob=0.5, lr=0.001):\n",
        "        super().__init__()\n",
        "        self.drop_prob = drop_prob\n",
        "        self.n_layers = n_layers\n",
        "        self.n_hidden = n_hidden\n",
        "        self.lr = lr\n",
        "        \n",
        "        # creating character dictionaries\n",
        "        self.chars = tokens\n",
        "        self.int2char = dict(enumerate(self.chars))\n",
        "        self.char2int = {ch: ii for ii, ch in self.int2char.items()}\n",
        "        \n",
        "        ## TODO: define the layers of the model\n",
        "        self.lstm = nn.LSTM(input_size  = len(self.chars), hidden_size= self.n_hidden, num_layers = self.n_layers, dropout=drop_prob, batch_first=True)\n",
        "        self.dropout = nn.Dropout(drop_prob)\n",
        "        self.fc = nn.Linear(self.n_hidden, len(self.chars)) # len(self.chars) equals the length of the output\n",
        "    def forward(self, x, hidden):\n",
        "        ''' Forward pass through the network. \n",
        "            These inputs are x, and the hidden/cell state `hidden`. '''\n",
        "                \n",
        "        ## TODO: Get the outputs and the new hidden state from the lstm\n",
        "        r_out, hidden = self.lstm(x,hidden)\n",
        "\n",
        "        out = self.dropout(r_out)\n",
        "\n",
        "        out  = out.contiguous().view(-1, self.n_hidden)\n",
        "        out = self.fc(out)\n",
        "        # return the final output and the hidden state\n",
        "        return out, hidden\n",
        "    \n",
        "    \n",
        "    def init_hidden(self, batch_size):\n",
        "        ''' Initializes hidden state '''\n",
        "        # Create two new tensors with sizes n_layers x batch_size x n_hidden,\n",
        "        # initialized to zero, for hidden state and cell state of LSTM\n",
        "        weight = next(self.parameters()).data\n",
        "        \n",
        "        if (train_on_gpu):\n",
        "            hidden = (weight.new(self.n_layers, batch_size, self.n_hidden).zero_().cuda(),\n",
        "                  weight.new(self.n_layers, batch_size, self.n_hidden).zero_().cuda())\n",
        "        else:\n",
        "            hidden = (weight.new(self.n_layers, batch_size, self.n_hidden).zero_(),\n",
        "                      weight.new(self.n_layers, batch_size, self.n_hidden).zero_())\n",
        "        \n",
        "        return hidden\n",
        "        "
      ],
      "execution_count": 0,
      "outputs": []
    },
    {
      "cell_type": "markdown",
      "metadata": {
        "id": "4iRIi957e0vE",
        "colab_type": "text"
      },
      "source": [
        "## Time to train\n",
        "\n",
        "The train function gives us the ability to set the number of epochs, the learning rate, and other parameters.\n",
        "\n",
        "Below we're using an Adam optimizer and cross entropy loss since we are looking at character class scores as output. We calculate the loss and perform backpropagation, as usual!\n",
        "\n",
        "A couple of details about training: \n",
        ">* Within the batch loop, we detach the hidden state from its history; this time setting it equal to a new *tuple* variable because an LSTM has a hidden state that is a tuple of the hidden and cell states.\n",
        "* We use [`clip_grad_norm_`](https://pytorch.org/docs/stable/_modules/torch/nn/utils/clip_grad.html) to help prevent exploding gradients."
      ]
    },
    {
      "cell_type": "code",
      "metadata": {
        "id": "Pb6eBd2je0vF",
        "colab_type": "code",
        "colab": {}
      },
      "source": [
        "def train(net, data, epochs=10, batch_size=10, seq_length=50, lr=0.001, clip=5, val_frac=0.1, print_every=10):\n",
        "    ''' Training a network \n",
        "    \n",
        "        Arguments\n",
        "        ---------\n",
        "        \n",
        "        net: CharRNN network\n",
        "        data: text data to train the network\n",
        "        epochs: Number of epochs to train\n",
        "        batch_size: Number of mini-sequences per mini-batch, aka batch size\n",
        "        seq_length: Number of character steps per mini-batch\n",
        "        lr: learning rate\n",
        "        clip: gradient clipping\n",
        "        val_frac: Fraction of data to hold out for validation\n",
        "        print_every: Number of steps for printing training and validation loss\n",
        "    \n",
        "    '''\n",
        "    net.train()\n",
        "    \n",
        "    opt = torch.optim.Adam(net.parameters(), lr=lr)\n",
        "    criterion = nn.CrossEntropyLoss()\n",
        "    \n",
        "    # create training and validation data\n",
        "    val_idx = int(len(data)*(1-val_frac))\n",
        "    data, val_data = data[:val_idx], data[val_idx:]\n",
        "    \n",
        "    if(train_on_gpu):\n",
        "        net.cuda()\n",
        "    \n",
        "    counter = 0\n",
        "    n_chars = len(net.chars)\n",
        "    for e in range(epochs):\n",
        "        # initialize hidden state\n",
        "        h = net.init_hidden(batch_size)\n",
        "        \n",
        "        for x, y in get_batches(data, batch_size, seq_length):\n",
        "            counter += 1\n",
        "            \n",
        "            # One-hot encode our data and make them Torch tensors\n",
        "            x = one_hot_encode(x, n_chars)\n",
        "            inputs, targets = torch.from_numpy(x), torch.from_numpy(y)\n",
        "            \n",
        "            if(train_on_gpu):\n",
        "                inputs, targets = inputs.cuda(), targets.cuda()\n",
        "\n",
        "            # Creating new variables for the hidden state, otherwise\n",
        "            # we'd backprop through the entire training history\n",
        "            h = tuple([each.data for each in h])\n",
        "\n",
        "            # zero accumulated gradients\n",
        "            net.zero_grad()\n",
        "            \n",
        "            # get the output from the model\n",
        "            output, h = net(inputs, h)\n",
        "            \n",
        "            # calculate the loss and perform backprop\n",
        "            loss = criterion(output, targets.view(batch_size*seq_length).long())\n",
        "            loss.backward()\n",
        "            # `clip_grad_norm` helps prevent the exploding gradient problem in RNNs / LSTMs.\n",
        "            nn.utils.clip_grad_norm_(net.parameters(), clip)\n",
        "            opt.step()\n",
        "            \n",
        "            # loss stats\n",
        "            if counter % print_every == 0:\n",
        "                # Get validation loss\n",
        "                val_h = net.init_hidden(batch_size)\n",
        "                val_losses = []\n",
        "                net.eval()\n",
        "                for x, y in get_batches(val_data, batch_size, seq_length):\n",
        "                    # One-hot encode our data and make them Torch tensors\n",
        "                    x = one_hot_encode(x, n_chars)\n",
        "                    x, y = torch.from_numpy(x), torch.from_numpy(y)\n",
        "                    \n",
        "                    # Creating new variables for the hidden state, otherwise\n",
        "                    # we'd backprop through the entire training history\n",
        "                    val_h = tuple([each.data for each in val_h])\n",
        "                    \n",
        "                    inputs, targets = x, y\n",
        "                    if(train_on_gpu):\n",
        "                        inputs, targets = inputs.cuda(), targets.cuda()\n",
        "\n",
        "                    output, val_h = net(inputs, val_h)\n",
        "                    val_loss = criterion(output, targets.view(batch_size*seq_length).long())\n",
        "                \n",
        "                    val_losses.append(val_loss.item())\n",
        "                \n",
        "                net.train() # reset to train mode after iterationg through validation data\n",
        "                \n",
        "                print(\"Epoch: {}/{}...\".format(e+1, epochs),\n",
        "                      \"Step: {}...\".format(counter),\n",
        "                      \"Loss: {:.4f}...\".format(loss.item()),\n",
        "                      \"Val Loss: {:.4f}\".format(np.mean(val_losses)))"
      ],
      "execution_count": 0,
      "outputs": []
    },
    {
      "cell_type": "markdown",
      "metadata": {
        "id": "s1YaIiYwe0vL",
        "colab_type": "text"
      },
      "source": [
        "## Instantiating the model\n",
        "\n",
        "Now we can actually train the network. First we'll create the network itself, with some given hyperparameters. Then, define the mini-batches sizes, and start training!"
      ]
    },
    {
      "cell_type": "code",
      "metadata": {
        "id": "DDlKEdZhe0vM",
        "colab_type": "code",
        "outputId": "2780aa7a-a139-4251-9ae9-e07d8f8df2cb",
        "colab": {
          "base_uri": "https://localhost:8080/",
          "height": 101
        }
      },
      "source": [
        "## TODO: set your model hyperparameters\n",
        "# define and print the net\n",
        "n_hidden=256\n",
        "n_layers=2\n",
        "\n",
        "net = CharRNN(chars, n_hidden, n_layers)\n",
        "print(net)"
      ],
      "execution_count": 61,
      "outputs": [
        {
          "output_type": "stream",
          "text": [
            "CharRNN(\n",
            "  (lstm): LSTM(47, 256, num_layers=2, batch_first=True, dropout=0.5)\n",
            "  (dropout): Dropout(p=0.5, inplace=False)\n",
            "  (fc): Linear(in_features=256, out_features=47, bias=True)\n",
            ")\n"
          ],
          "name": "stdout"
        }
      ]
    },
    {
      "cell_type": "markdown",
      "metadata": {
        "id": "nEatbTyFe0vR",
        "colab_type": "text"
      },
      "source": [
        "### Set your training hyperparameters!"
      ]
    },
    {
      "cell_type": "code",
      "metadata": {
        "id": "EBa1WfXTlik7",
        "colab_type": "code",
        "outputId": "5712af6b-269f-4505-e19a-afd24379b136",
        "colab": {
          "base_uri": "https://localhost:8080/",
          "height": 34
        }
      },
      "source": [
        "encoded.shape"
      ],
      "execution_count": 62,
      "outputs": [
        {
          "output_type": "execute_result",
          "data": {
            "text/plain": [
              "(1221414,)"
            ]
          },
          "metadata": {
            "tags": []
          },
          "execution_count": 62
        }
      ]
    },
    {
      "cell_type": "code",
      "metadata": {
        "scrolled": true,
        "id": "YIulbSQte0vS",
        "colab_type": "code",
        "outputId": "dc1834e9-b928-46e1-e279-f1bb084a26ba",
        "colab": {
          "base_uri": "https://localhost:8080/",
          "height": 1000
        }
      },
      "source": [
        "batch_size = 128\n",
        "seq_length = 100\n",
        "n_epochs = 10 # start small if you are just testing initial behavior\n",
        "\n",
        "# train the model\n",
        "train(net, encoded, epochs=n_epochs, batch_size=batch_size, seq_length=seq_length, lr=0.001, print_every=10)"
      ],
      "execution_count": 63,
      "outputs": [
        {
          "output_type": "stream",
          "text": [
            "Epoch: 1/10... Step: 10... Loss: 3.4199... Val Loss: 3.4176\n",
            "Epoch: 1/10... Step: 20... Loss: 3.2787... Val Loss: 3.3059\n",
            "Epoch: 1/10... Step: 30... Loss: 3.2793... Val Loss: 3.3368\n",
            "Epoch: 1/10... Step: 40... Loss: 3.2669... Val Loss: 3.3248\n",
            "Epoch: 1/10... Step: 50... Loss: 3.2437... Val Loss: 3.2741\n",
            "Epoch: 1/10... Step: 60... Loss: 3.2500... Val Loss: 3.3031\n",
            "Epoch: 1/10... Step: 70... Loss: 3.2560... Val Loss: 3.3350\n",
            "Epoch: 1/10... Step: 80... Loss: 3.2413... Val Loss: 3.3138\n",
            "Epoch: 2/10... Step: 90... Loss: 3.2164... Val Loss: 3.2872\n",
            "Epoch: 2/10... Step: 100... Loss: 3.1890... Val Loss: 3.2585\n",
            "Epoch: 2/10... Step: 110... Loss: 3.1314... Val Loss: 3.1926\n",
            "Epoch: 2/10... Step: 120... Loss: 3.0845... Val Loss: 3.1509\n",
            "Epoch: 2/10... Step: 130... Loss: 3.0316... Val Loss: 3.0718\n",
            "Epoch: 2/10... Step: 140... Loss: 2.9892... Val Loss: 3.0417\n",
            "Epoch: 2/10... Step: 150... Loss: 2.9301... Val Loss: 3.0790\n",
            "Epoch: 2/10... Step: 160... Loss: 2.9181... Val Loss: 3.1644\n",
            "Epoch: 2/10... Step: 170... Loss: 2.9265... Val Loss: 3.0738\n",
            "Epoch: 3/10... Step: 180... Loss: 2.9299... Val Loss: 3.0724\n",
            "Epoch: 3/10... Step: 190... Loss: 2.8811... Val Loss: 3.0403\n",
            "Epoch: 3/10... Step: 200... Loss: 2.9093... Val Loss: 3.0343\n",
            "Epoch: 3/10... Step: 210... Loss: 2.8768... Val Loss: 3.0273\n",
            "Epoch: 3/10... Step: 220... Loss: 2.8351... Val Loss: 2.9707\n",
            "Epoch: 3/10... Step: 230... Loss: 2.8239... Val Loss: 2.9613\n",
            "Epoch: 3/10... Step: 240... Loss: 2.7935... Val Loss: 2.9332\n",
            "Epoch: 3/10... Step: 250... Loss: 2.7796... Val Loss: 2.9461\n",
            "Epoch: 4/10... Step: 260... Loss: 2.7401... Val Loss: 2.8605\n",
            "Epoch: 4/10... Step: 270... Loss: 2.7019... Val Loss: 2.8124\n",
            "Epoch: 4/10... Step: 280... Loss: 2.7012... Val Loss: 2.8022\n",
            "Epoch: 4/10... Step: 290... Loss: 2.6648... Val Loss: 2.8160\n",
            "Epoch: 4/10... Step: 300... Loss: 2.6510... Val Loss: 2.7929\n",
            "Epoch: 4/10... Step: 310... Loss: 2.6516... Val Loss: 2.7553\n",
            "Epoch: 4/10... Step: 320... Loss: 2.6164... Val Loss: 2.7596\n",
            "Epoch: 4/10... Step: 330... Loss: 2.5475... Val Loss: 2.7256\n",
            "Epoch: 4/10... Step: 340... Loss: 2.5641... Val Loss: 2.7105\n",
            "Epoch: 5/10... Step: 350... Loss: 2.5611... Val Loss: 2.6800\n",
            "Epoch: 5/10... Step: 360... Loss: 2.5123... Val Loss: 2.6789\n",
            "Epoch: 5/10... Step: 370... Loss: 2.5264... Val Loss: 2.6571\n",
            "Epoch: 5/10... Step: 380... Loss: 2.4792... Val Loss: 2.6422\n",
            "Epoch: 5/10... Step: 390... Loss: 2.4225... Val Loss: 2.5920\n",
            "Epoch: 5/10... Step: 400... Loss: 2.3970... Val Loss: 2.5938\n",
            "Epoch: 5/10... Step: 410... Loss: 2.4051... Val Loss: 2.5991\n",
            "Epoch: 5/10... Step: 420... Loss: 2.3777... Val Loss: 2.5532\n",
            "Epoch: 6/10... Step: 430... Loss: 2.3469... Val Loss: 2.5239\n",
            "Epoch: 6/10... Step: 440... Loss: 2.2882... Val Loss: 2.5059\n",
            "Epoch: 6/10... Step: 450... Loss: 2.2657... Val Loss: 2.4868\n",
            "Epoch: 6/10... Step: 460... Loss: 2.2627... Val Loss: 2.4798\n",
            "Epoch: 6/10... Step: 470... Loss: 2.2166... Val Loss: 2.4577\n",
            "Epoch: 6/10... Step: 480... Loss: 2.2121... Val Loss: 2.4298\n",
            "Epoch: 6/10... Step: 490... Loss: 2.1766... Val Loss: 2.3958\n",
            "Epoch: 6/10... Step: 500... Loss: 2.0907... Val Loss: 2.3823\n",
            "Epoch: 6/10... Step: 510... Loss: 2.1275... Val Loss: 2.3565\n",
            "Epoch: 7/10... Step: 520... Loss: 2.1266... Val Loss: 2.3194\n",
            "Epoch: 7/10... Step: 530... Loss: 2.0445... Val Loss: 2.2947\n",
            "Epoch: 7/10... Step: 540... Loss: 2.0590... Val Loss: 2.2810\n",
            "Epoch: 7/10... Step: 550... Loss: 2.0226... Val Loss: 2.2785\n",
            "Epoch: 7/10... Step: 560... Loss: 1.9733... Val Loss: 2.2143\n",
            "Epoch: 7/10... Step: 570... Loss: 1.9402... Val Loss: 2.1793\n",
            "Epoch: 7/10... Step: 580... Loss: 1.9139... Val Loss: 2.1826\n",
            "Epoch: 7/10... Step: 590... Loss: 1.8855... Val Loss: 2.1732\n",
            "Epoch: 8/10... Step: 600... Loss: 1.8758... Val Loss: 2.1420\n",
            "Epoch: 8/10... Step: 610... Loss: 1.8088... Val Loss: 2.0940\n",
            "Epoch: 8/10... Step: 620... Loss: 1.8054... Val Loss: 2.0903\n",
            "Epoch: 8/10... Step: 630... Loss: 1.7956... Val Loss: 2.0538\n",
            "Epoch: 8/10... Step: 640... Loss: 1.7552... Val Loss: 2.0256\n",
            "Epoch: 8/10... Step: 650... Loss: 1.7686... Val Loss: 1.9784\n",
            "Epoch: 8/10... Step: 660... Loss: 1.7423... Val Loss: 1.9808\n",
            "Epoch: 8/10... Step: 670... Loss: 1.6366... Val Loss: 1.9688\n",
            "Epoch: 8/10... Step: 680... Loss: 1.6811... Val Loss: 1.9442\n",
            "Epoch: 9/10... Step: 690... Loss: 1.6726... Val Loss: 1.8871\n",
            "Epoch: 9/10... Step: 700... Loss: 1.6152... Val Loss: 1.8682\n",
            "Epoch: 9/10... Step: 710... Loss: 1.6382... Val Loss: 1.8774\n",
            "Epoch: 9/10... Step: 720... Loss: 1.6100... Val Loss: 1.8658\n",
            "Epoch: 9/10... Step: 730... Loss: 1.5812... Val Loss: 1.7928\n",
            "Epoch: 9/10... Step: 740... Loss: 1.5577... Val Loss: 1.8305\n",
            "Epoch: 9/10... Step: 750... Loss: 1.5362... Val Loss: 1.7801\n",
            "Epoch: 9/10... Step: 760... Loss: 1.5231... Val Loss: 1.7658\n",
            "Epoch: 10/10... Step: 770... Loss: 1.5230... Val Loss: 1.7217\n",
            "Epoch: 10/10... Step: 780... Loss: 1.4672... Val Loss: 1.7301\n",
            "Epoch: 10/10... Step: 790... Loss: 1.4702... Val Loss: 1.7115\n",
            "Epoch: 10/10... Step: 800... Loss: 1.4783... Val Loss: 1.7122\n",
            "Epoch: 10/10... Step: 810... Loss: 1.4544... Val Loss: 1.6996\n",
            "Epoch: 10/10... Step: 820... Loss: 1.4514... Val Loss: 1.6445\n",
            "Epoch: 10/10... Step: 830... Loss: 1.4571... Val Loss: 1.6495\n",
            "Epoch: 10/10... Step: 840... Loss: 1.3564... Val Loss: 1.6322\n",
            "Epoch: 10/10... Step: 850... Loss: 1.4338... Val Loss: 1.6258\n"
          ],
          "name": "stdout"
        }
      ]
    },
    {
      "cell_type": "markdown",
      "metadata": {
        "id": "lK6-IsEae0vY",
        "colab_type": "text"
      },
      "source": [
        "## Getting the best model\n",
        "\n",
        "To set your hyperparameters to get the best performance, you'll want to watch the training and validation losses. If your training loss is much lower than the validation loss, you're overfitting. Increase regularization (more dropout) or use a smaller network. If the training and validation losses are close, you're underfitting so you can increase the size of the network."
      ]
    },
    {
      "cell_type": "markdown",
      "metadata": {
        "id": "YNjmJXUxe0vZ",
        "colab_type": "text"
      },
      "source": [
        "## Hyperparameters\n",
        "\n",
        "Here are the hyperparameters for the network.\n",
        "\n",
        "In defining the model:\n",
        "* `n_hidden` - The number of units in the hidden layers.\n",
        "* `n_layers` - Number of hidden LSTM layers to use.\n",
        "\n",
        "We assume that dropout probability and learning rate will be kept at the default, in this example.\n",
        "\n",
        "And in training:\n",
        "* `batch_size` - Number of sequences running through the network in one pass.\n",
        "* `seq_length` - Number of characters in the sequence the network is trained on. Larger is better typically, the network will learn more long range dependencies. But it takes longer to train. 100 is typically a good number here.\n",
        "* `lr` - Learning rate for training\n",
        "\n",
        "Here's some good advice from Andrej Karpathy on training the network. I'm going to copy it in here for your benefit, but also link to [where it originally came from](https://github.com/karpathy/char-rnn#tips-and-tricks).\n",
        "\n",
        "> ## Tips and Tricks\n",
        "\n",
        ">### Monitoring Validation Loss vs. Training Loss\n",
        ">If you're somewhat new to Machine Learning or Neural Networks it can take a bit of expertise to get good models. The most important quantity to keep track of is the difference between your training loss (printed during training) and the validation loss (printed once in a while when the RNN is run on the validation data (by default every 1000 iterations)). In particular:\n",
        "\n",
        "> - If your training loss is much lower than validation loss then this means the network might be **overfitting**. Solutions to this are to decrease your network size, or to increase dropout. For example you could try dropout of 0.5 and so on.\n",
        "> - If your training/validation loss are about equal then your model is **underfitting**. Increase the size of your model (either number of layers or the raw number of neurons per layer)\n",
        "\n",
        "> ### Approximate number of parameters\n",
        "\n",
        "> The two most important parameters that control the model are `n_hidden` and `n_layers`. I would advise that you always use `n_layers` of either 2/3. The `n_hidden` can be adjusted based on how much data you have. The two important quantities to keep track of here are:\n",
        "\n",
        "> - The number of parameters in your model. This is printed when you start training.\n",
        "> - The size of your dataset. 1MB file is approximately 1 million characters.\n",
        "\n",
        ">These two should be about the same order of magnitude. It's a little tricky to tell. Here are some examples:\n",
        "\n",
        "> - I have a 100MB dataset and I'm using the default parameter settings (which currently print 150K parameters). My data size is significantly larger (100 mil >> 0.15 mil), so I expect to heavily underfit. I am thinking I can comfortably afford to make `n_hidden` larger.\n",
        "> - I have a 10MB dataset and running a 10 million parameter model. I'm slightly nervous and I'm carefully monitoring my validation loss. If it's larger than my training loss then I may want to try to increase dropout a bit and see if that helps the validation loss.\n",
        "\n",
        "> ### Best models strategy\n",
        "\n",
        ">The winning strategy to obtaining very good models (if you have the compute time) is to always err on making the network larger (as large as you're willing to wait for it to compute) and then try different dropout values (between 0,1). Whatever model has the best validation performance (the loss, written in the checkpoint filename, low is good) is the one you should use in the end.\n",
        "\n",
        ">It is very common in deep learning to run many different models with many different hyperparameter settings, and in the end take whatever checkpoint gave the best validation performance.\n",
        "\n",
        ">By the way, the size of your training and validation splits are also parameters. Make sure you have a decent amount of data in your validation set or otherwise the validation performance will be noisy and not very informative."
      ]
    },
    {
      "cell_type": "markdown",
      "metadata": {
        "id": "U0HusXVye0va",
        "colab_type": "text"
      },
      "source": [
        "## Checkpoint\n",
        "\n",
        "After training, we'll save the model so we can load it again later if we need too. Here I'm saving the parameters needed to create the same architecture, the hidden layer hyperparameters and the text characters."
      ]
    },
    {
      "cell_type": "code",
      "metadata": {
        "id": "KC2KxC4He0vb",
        "colab_type": "code",
        "colab": {}
      },
      "source": [
        "# change the name, for saving multiple files\n",
        "model_name = 'rnn_x_epoch.net'\n",
        "\n",
        "checkpoint = {'n_hidden': net.n_hidden,\n",
        "              'n_layers': net.n_layers,\n",
        "              'state_dict': net.state_dict(),\n",
        "              'tokens': net.chars}\n",
        "\n",
        "with open(model_name, 'wb') as f:\n",
        "    torch.save(checkpoint, f)"
      ],
      "execution_count": 0,
      "outputs": []
    },
    {
      "cell_type": "code",
      "metadata": {
        "id": "pqkMNKrcXn6j",
        "colab_type": "code",
        "colab": {
          "base_uri": "https://localhost:8080/",
          "height": 806
        },
        "outputId": "a048d206-26c8-474b-8a8e-6b03e8f34efe"
      },
      "source": [
        "checkpoint['tokens']"
      ],
      "execution_count": 65,
      "outputs": [
        {
          "output_type": "execute_result",
          "data": {
            "text/plain": [
              "('ہ',\n",
              " 'أ',\n",
              " 'ؤ',\n",
              " 'ط',\n",
              " 'ن',\n",
              " 'ل',\n",
              " 'ت',\n",
              " 'ح',\n",
              " 'ۃ',\n",
              " 'ۂ',\n",
              " 'س',\n",
              " 'ز',\n",
              " 'ش',\n",
              " 'د',\n",
              " 'ظ',\n",
              " 'ک',\n",
              " 'ج',\n",
              " 'پ',\n",
              " 'خ',\n",
              " 'غ',\n",
              " 'ڑ',\n",
              " 'ث',\n",
              " 'گ',\n",
              " 'ڈ',\n",
              " 'آ',\n",
              " 'ا',\n",
              " 'ب',\n",
              " 'ژ',\n",
              " 'ع',\n",
              " 'ٹ',\n",
              " 'ر',\n",
              " 'ے',\n",
              " 'ص',\n",
              " 'ذ',\n",
              " 'م',\n",
              " '\\n',\n",
              " 'ی',\n",
              " '_',\n",
              " 'ں',\n",
              " 'ء',\n",
              " 'ض',\n",
              " 'ف',\n",
              " 'چ',\n",
              " 'ق',\n",
              " 'ھ',\n",
              " 'و',\n",
              " 'ئ')"
            ]
          },
          "metadata": {
            "tags": []
          },
          "execution_count": 65
        }
      ]
    },
    {
      "cell_type": "markdown",
      "metadata": {
        "id": "Y1unoI1Ge0vg",
        "colab_type": "text"
      },
      "source": [
        "---\n",
        "## Making Predictions\n",
        "\n",
        "Now that the model is trained, we'll want to sample from it and make predictions about next characters! To sample, we pass in a character and have the network predict the next character. Then we take that character, pass it back in, and get another predicted character. Just keep doing this and you'll generate a bunch of text!\n",
        "\n",
        "### A note on the `predict`  function\n",
        "\n",
        "The output of our RNN is from a fully-connected layer and it outputs a **distribution of next-character scores**.\n",
        "\n",
        "> To actually get the next character, we apply a softmax function, which gives us a *probability* distribution that we can then sample to predict the next character.\n",
        "\n",
        "### Top K sampling\n",
        "\n",
        "Our predictions come from a categorical probability distribution over all the possible characters. We can make the sample text and make it more reasonable to handle (with less variables) by only considering some $K$ most probable characters. This will prevent the network from giving us completely absurd characters while allowing it to introduce some noise and randomness into the sampled text. Read more about [topk, here](https://pytorch.org/docs/stable/torch.html#torch.topk).\n"
      ]
    },
    {
      "cell_type": "code",
      "metadata": {
        "id": "nef3xItAe0vh",
        "colab_type": "code",
        "colab": {}
      },
      "source": [
        "def predict(net, char, h=None, top_k=None):\n",
        "        ''' Given a character, predict the next character.\n",
        "            Returns the predicted character and the hidden state.\n",
        "        '''\n",
        "        \n",
        "        # tensor inputs\n",
        "        x = np.array([[net.char2int[char]]])\n",
        "        x = one_hot_encode(x, len(net.chars))\n",
        "        inputs = torch.from_numpy(x)\n",
        "        \n",
        "        if(train_on_gpu):\n",
        "            inputs = inputs.cuda()\n",
        "        \n",
        "        # detach hidden state from history\n",
        "        h = tuple([each.data for each in h])\n",
        "        # get the output of the model\n",
        "        out, h = net(inputs, h)\n",
        "\n",
        "        # get the character probabilities\n",
        "        p = F.softmax(out, dim=1).data\n",
        "        \n",
        "        if(train_on_gpu):\n",
        "            p = p.cpu() # move to cpu\n",
        "        \n",
        "        # get top characters\n",
        "        if top_k is None:\n",
        "            top_ch = np.arange(len(net.chars))\n",
        "        else:\n",
        "            p, top_ch = p.topk(top_k)\n",
        "            \n",
        "            top_ch = top_ch.numpy().squeeze()\n",
        "        \n",
        "        # select the likely next character with some element of randomness\n",
        "        p = p.numpy().squeeze()\n",
        "        char = np.random.choice(top_ch, p=p/p.sum())\n",
        "        \n",
        "        # return the encoded value of the predicted char and the hidden state\n",
        "        return net.int2char[char], h"
      ],
      "execution_count": 0,
      "outputs": []
    },
    {
      "cell_type": "markdown",
      "metadata": {
        "id": "tNmz-QVje0vp",
        "colab_type": "text"
      },
      "source": [
        "### Priming and generating text \n",
        "\n",
        "Typically you'll want to prime the network so you can build up a hidden state. Otherwise the network will start out generating characters at random. In general the first bunch of characters will be a little rough since it hasn't built up a long history of characters to predict from."
      ]
    },
    {
      "cell_type": "code",
      "metadata": {
        "id": "wy5kPEa6e0vq",
        "colab_type": "code",
        "colab": {}
      },
      "source": [
        "def sample(net, size, prime='The', top_k=None):\n",
        "        \n",
        "    if(train_on_gpu):\n",
        "        net.cuda()\n",
        "    else:\n",
        "        net.cpu()\n",
        "    \n",
        "    net.eval() # eval mode\n",
        "    \n",
        "    # First off, run through the prime characters\n",
        "    chars = [ch for ch in prime]\n",
        "    h = net.init_hidden(1)\n",
        "    for ch in prime:\n",
        "        char, h = predict(net, ch, h, top_k=top_k)\n",
        "\n",
        "    chars.append(char)\n",
        "    \n",
        "    # Now pass in the previous character and get a new one\n",
        "    for ii in range(size):\n",
        "        char, h = predict(net, chars[-1], h, top_k=top_k)\n",
        "        chars.append(char)\n",
        "\n",
        "    return ''.join(chars)"
      ],
      "execution_count": 0,
      "outputs": []
    },
    {
      "cell_type": "code",
      "metadata": {
        "id": "UW1b4A1Ve0vw",
        "colab_type": "code",
        "colab": {
          "base_uri": "https://localhost:8080/",
          "height": 1000
        },
        "outputId": "47ae1c02-b103-4ae4-9f9c-146ab3f60a8d"
      },
      "source": [
        "print(sample(net, 1000, prime='آئرس', top_k=5))"
      ],
      "execution_count": 69,
      "outputs": [
        {
          "output_type": "stream",
          "text": [
            "آئرس\n",
            "قاکر\n",
            "ضارک\n",
            "عارک\n",
            "عارک\n",
            "عارد\n",
            "عاردی\n",
            "عارہ\n",
            "عاری_دا\n",
            "عاری_دی\n",
            "عاریہ\n",
            "عاریاں\n",
            "عار\n",
            "عار_بارا\n",
            "عار_ارباری\n",
            "عار_وریت\n",
            "عار_کا_بیری\n",
            "عار_کو_بیات\n",
            "عار_ودان\n",
            "عار_والیں\n",
            "عار_موانی\n",
            "عار_مری\n",
            "عار_مالہان\n",
            "عار_مارون\n",
            "عار_عام\n",
            "مصار_مار\n",
            "مصار_الموا\n",
            "مصار_افرد\n",
            "مصار_مالو\n",
            "مضام_شلی\n",
            "مطال_البام\n",
            "عاطل_اممر\n",
            "عاصر_عرارات\n",
            "عاشب_مولی\n",
            "عاعاد_خات\n",
            "عاعب_الادیا\n",
            "عاعب_ماد\n",
            "عاعب_دامی\n",
            "عاعت_دیر\n",
            "حاعم_بوم\n",
            "عاحم_الدا\n",
            "عاعبا\n",
            "عاعبیت\n",
            "عاعبین\n",
            "عاعتی\n",
            "عاعقہات\n",
            "عاقدی\n",
            "عاققہ\n",
            "عاقلہہا\n",
            "عاضنیت\n",
            "عاصیت\n",
            "عاصیت\n",
            "عاصید_ارمار\n",
            "عاصوق_بیر\n",
            "عاصوع_اردین\n",
            "عاصوع_الدونیت\n",
            "عاصوع_بلم\n",
            "عاصود_عیلہ\n",
            "عاوحۂ_الالو\n",
            "اعوصائ_مور\n",
            "عاوعصا_نلوات\n",
            "ماصوعت_مامات\n",
            "ماصودم_پراتی\n",
            "ماصورہ_کر\n",
            "ماصورہ_موم\n",
            "ناصومہ_نرو\n",
            "ناصومہ_نیاری\n",
            "ناصولا_بلدی\n",
            "ناصولا_دلاتات\n",
            "نطاولہ_دالا\n",
            "نصاولی_دو_داری\n",
            "نصوالی_ناسی\n",
            "نصالوا_کا_ناار\n",
            "نصالات_گالاں\n",
            "نصالان_اندار\n",
            "نصالور\n",
            "نصالیریں\n",
            "نصالی\n",
            "نصال\n",
            "نصالی\n",
            "نصالیت\n",
            "نصالیت\n",
            "نصال\n",
            "نصار_نوالی\n",
            "مصنائی\n",
            "نصالتا\n",
            "نصانل\n",
            "اخمی\n",
            "آمخین\n",
            "آعور\n",
            "صوعار\n",
            "آخموات\n",
            "صوختاں\n",
            "صوختانہ\n",
            "صودت\n",
            "صودتی\n",
            "صودتہہ\n",
            "صودتیں\n",
            "صودتی\n",
            "صودد\n",
            "صوددا\n",
            "صودت\n",
            "صودتی\n",
            "صودتیں\n",
            "عوج\n",
            "عمود\n",
            "عنوب\n",
            "عنوب\n",
            "عنوب\n",
            "عنوب\n",
            "عنوبہ\n",
            "عروبہیت\n",
            "قروب\n",
            "قرود_دانہ\n",
            "قرود_کاری\n",
            "قرودی\n",
            "قرودی_انر\n",
            "قرودی_نامہ\n",
            "قرودینا\n",
            "قرودین\n"
          ],
          "name": "stdout"
        }
      ]
    },
    {
      "cell_type": "markdown",
      "metadata": {
        "id": "wpR2Ouize0v3",
        "colab_type": "text"
      },
      "source": [
        "## Loading a checkpoint"
      ]
    },
    {
      "cell_type": "code",
      "metadata": {
        "id": "rVqVCmUfe0v6",
        "colab_type": "code",
        "colab": {
          "base_uri": "https://localhost:8080/",
          "height": 34
        },
        "outputId": "65a706cb-abe0-465c-fc3f-9f0ca2a3f550"
      },
      "source": [
        "# Here we have loaded in a model that trained over 20 epochs `rnn_20_epoch.net`\n",
        "with open('rnn_x_epoch.net', 'rb') as f:\n",
        "    checkpoint = torch.load(f)\n",
        "    \n",
        "loaded = CharRNN(checkpoint['tokens'], n_hidden=checkpoint['n_hidden'], n_layers=checkpoint['n_layers'])\n",
        "loaded.load_state_dict(checkpoint['state_dict'])"
      ],
      "execution_count": 70,
      "outputs": [
        {
          "output_type": "execute_result",
          "data": {
            "text/plain": [
              "<All keys matched successfully>"
            ]
          },
          "metadata": {
            "tags": []
          },
          "execution_count": 70
        }
      ]
    },
    {
      "cell_type": "code",
      "metadata": {
        "id": "B4_ifTEAe0v_",
        "colab_type": "code",
        "colab": {
          "base_uri": "https://localhost:8080/",
          "height": 1000
        },
        "outputId": "7d69f4fd-e87b-49b1-ff2b-29f6911dca40"
      },
      "source": [
        "# Sample using a loaded model\n",
        "print(sample(loaded, 2000, top_k=5, prime=\"آئیڈ\"))"
      ],
      "execution_count": 71,
      "outputs": [
        {
          "output_type": "stream",
          "text": [
            "آئیڈاں\n",
            "ناضی\n",
            "ناقی\n",
            "ناقے\n",
            "ناقینا\n",
            "ناضن\n",
            "ناع\n",
            "ناعن\n",
            "ناعل_اناد\n",
            "ناعم_الال\n",
            "ناعم_مودی\n",
            "ناعم_اقنوالہ\n",
            "ناعم_بام\n",
            "ناعم_اند\n",
            "ناعن_بان\n",
            "ناعل_کا_کا_اری\n",
            "ناعد_کی_کار\n",
            "نادب_وارہ\n",
            "نادب_دور\n",
            "نادد_نالہ\n",
            "نادد_مول\n",
            "نادد_نان\n",
            "نادد_بوال\n",
            "مادد_بردی\n",
            "مادد_اربلی\n",
            "نادد_انمارا\n",
            "نادد_دیات\n",
            "نادد_اردو\n",
            "نادد_ناد\n",
            "نادد_نالی\n",
            "رادد_مارورہ\n",
            "نادد_دوالی\n",
            "نادد_داد\n",
            "نادد_کوار\n",
            "نادد_ورار\n",
            "نادد_برو\n",
            "رادد_مری\n",
            "رادد_کانہ\n",
            "نادد_کار\n",
            "نادد_نلو\n",
            "نادد\n",
            "ناددا\n",
            "ناددی\n",
            "ناددہ\n",
            "ناددو\n",
            "ناددی\n",
            "ناددی\n",
            "نادکیں\n",
            "راد\n",
            "نبار\n",
            "دانداں\n",
            "داندیاں\n",
            "داند\n",
            "داندوں\n",
            "داندا\n",
            "داند\n",
            "داندا\n",
            "داندوں\n",
            "بنادن\n",
            "داندیں\n",
            "داندی\n",
            "داندوا\n",
            "عاند\n",
            "ادما\n",
            "ادمات\n",
            "ادمائی_اوردا\n",
            "ادمان_باراتی\n",
            "ادمان_الامت\n",
            "ادمان_التا\n",
            "ادمان_درت\n",
            "ادمان_کو_بار\n",
            "ادناب_ملوا\n",
            "ادناب_بال\n",
            "ادناب_انان\n",
            "ادناب\n",
            "مدانا\n",
            "مدانی_بال\n",
            "بنادا_بریی\n",
            "دانتا_بادانی\n",
            "بناتت_بان\n",
            "بناتت_اولاتیہ\n",
            "بناتت_بیر\n",
            "بناتت_ارال\n",
            "بناتت_الندان\n",
            "بناتت_باتی\n",
            "دانتائاں\n",
            "دانتاؤئا\n",
            "بناتائی\n",
            "بناتائاں\n",
            "دانتاتیاں\n",
            "بنبانی\n",
            "بنباتے\n",
            "بنبانتیں\n",
            "بنبان\n",
            "بنباناں\n",
            "بنبالیں\n",
            "بنباتی\n",
            "بنباتی\n",
            "بنباری_بان\n",
            "بنبارات\n",
            "بنباران\n",
            "بنباران\n",
            "بنبارائی\n",
            "بنباسنا\n",
            "بنبانیاں\n",
            "بنبانی\n",
            "بنبانیں\n",
            "بنباتی_بیرا\n",
            "بنبانے\n",
            "بنبانا\n",
            "بنبانیں\n",
            "بنبانے\n",
            "بنبان\n",
            "بنبالا\n",
            "بنبائے\n",
            "بنباؤ\n",
            "بنباؤں\n",
            "بنباتی\n",
            "بنباتے\n",
            "بنباتا\n",
            "بنبائی\n",
            "بنبائی_آان\n",
            "بنبائی_دینو\n",
            "بلابتیں\n",
            "بلابتا\n",
            "بلاجائی\n",
            "بلاجائی\n",
            "بلاببیں\n",
            "بلاببی\n",
            "بلابالی\n",
            "بلابال\n",
            "بلابالا\n",
            "بلابانا\n",
            "بلابالیں\n",
            "بلابالاں\n",
            "بلابی\n",
            "بلابیں\n",
            "بلابیاں\n",
            "بلابیں\n",
            "بلابیں\n",
            "بلاب\n",
            "بلاب_اللا\n",
            "بلاب_برال\n",
            "بلاب_دلار\n",
            "بلاب_بورا\n",
            "بلاب_داری\n",
            "بلاب_بیلی\n",
            "جالب_البلی\n",
            "بلاب_مرلا\n",
            "بلاب_برال\n",
            "بلاب_بور\n",
            "بلاباں\n",
            "بلابا\n",
            "بلاب\n",
            "بلاب_دون\n",
            "بلاب\n",
            "بلابیا\n",
            "بلابی\n",
            "بلابی\n",
            "بلابی\n",
            "بلادیا\n",
            "بلان\n",
            "بلان\n",
            "بلانا\n",
            "بلانا\n",
            "بلان\n",
            "بلانی\n",
            "بلایا\n",
            "بلای\n",
            "بلاییاں\n",
            "بلے\n",
            "آلہ\n",
            "بیلا\n",
            "بیلا\n",
            "بیلائی\n",
            "بیلاؤں\n",
            "بیلاؤ\n",
            "بیلائیں\n",
            "بیلائیں\n",
            "بیلائیاں\n",
            "بیلتاؤت\n",
            "بیلتا\n",
            "بیلجائی\n",
            "بیلتائیا\n",
            "بیلتاں\n",
            "بیلت\n",
            "بیلتا\n",
            "بیلت\n",
            "بیلتی\n",
            "بیلتیں\n",
            "بیلتی\n",
            "بیلناتیں\n",
            "بیلتی\n",
            "بیلتی_کائی\n",
            "بیلتیں\n",
            "دیتیلہں\n",
            "بریدیں\n",
            "برہورہ\n",
            "بریبیں\n",
            "بریبیت\n",
            "بریب\n",
            "بریح\n",
            "بریح\n",
            "بریبات\n",
            "بریباتیت\n",
            "بریداناں\n",
            "بریدانہ\n",
            "بریدوں\n",
            "بریدی\n",
            "بریدے\n",
            "برہارے\n",
            "برہار\n",
            "برہ\n",
            "براہ\n",
            "برایب\n",
            "براہ\n",
            "براہ\n",
            "برادی\n",
            "برہاتی\n",
            "بہرتی\n",
            "بہرتے\n",
            "بہرت\n",
            "بہرتہ\n",
            "بہردہ\n",
            "بہردے\n",
            "بہرد\n",
            "بہرد\n",
            "بہربا\n",
            "بہرد\n",
            "بیرب\n",
            "دیرائی\n",
            "بریبنیں\n",
            "بریبی\n",
            "بریب\n",
            "بریب\n",
            "بریب_بال\n",
            "بریب_دار\n",
            "بریب_پندر\n",
            "بریب_دوار\n",
            "بریب_اررول\n",
            "بریب_باریا\n",
            "بریب_اران\n",
            "بریب_پرن\n",
            "بریب_دا_بان\n",
            "بریب_ارم\n",
            "بریب_اماماری\n",
            "بہرا_داتاتہ\n",
            "بہراب\n",
            "برہابری\n",
            "برہالت\n",
            "بریبانیت\n",
            "بریادتا\n",
            "بریبوان\n",
            "بریبالی\n",
            "پریبانی\n",
            "پریباری\n",
            "پری\n"
          ],
          "name": "stdout"
        }
      ]
    }
  ]
}